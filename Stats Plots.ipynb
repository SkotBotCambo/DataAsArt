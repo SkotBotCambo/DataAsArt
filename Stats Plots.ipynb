{
 "cells": [
  {
   "cell_type": "code",
   "execution_count": 1,
   "metadata": {
    "collapsed": true
   },
   "outputs": [],
   "source": [
    "import pandas as pd\n",
    "import numpy as np\n",
    "import matplotlib.pyplot as plt"
   ]
  },
  {
   "cell_type": "code",
   "execution_count": 7,
   "metadata": {
    "collapsed": true
   },
   "outputs": [],
   "source": [
    "x1 = pd.Series({'player 1': 2, \n",
    "                'player 2': 3, \n",
    "                'player 3': 8,\n",
    "                'fish': 23,\n",
    "                'lizards': 8})"
   ]
  },
  {
   "cell_type": "code",
   "execution_count": 8,
   "metadata": {},
   "outputs": [
    {
     "data": {
      "text/plain": [
       "<matplotlib.axes._subplots.AxesSubplot at 0x10efa66d8>"
      ]
     },
     "execution_count": 8,
     "metadata": {},
     "output_type": "execute_result"
    }
   ],
   "source": [
    "x.plot.bar()"
   ]
  },
  {
   "cell_type": "code",
   "execution_count": 9,
   "metadata": {},
   "outputs": [
    {
     "data": {
      "image/png": "[encoded data removed]",
      "text/plain": [
       "<matplotlib.figure.Figure at 0x10efab0b8>"
      ]
     },
     "metadata": {},
     "output_type": "display_data"
    }
   ],
   "source": [
    "plt.show()"
   ]
  },
  {
   "cell_type": "code",
   "execution_count": 10,
   "metadata": {
    "collapsed": true
   },
   "outputs": [],
   "source": [
    "height_pd = pd.read_csv(\"/Users/scottcambo/Downloads/NCD_RisC_eLife_2016_height_age18_countries.csv\")"
   ]
  },
  {
   "cell_type": "code",
   "execution_count": 11,
   "metadata": {},
   "outputs": [
    {
     "data": {
      "text/html": [
       "<div>\n",
       "<style scoped>\n",
       "    .dataframe tbody tr th:only-of-type {\n",
       "        vertical-align: middle;\n",
       "    }\n",
       "\n",
       "    .dataframe tbody tr th {\n",
       "        vertical-align: top;\n",
       "    }\n",
       "\n",
       "    .dataframe thead th {\n",
       "        text-align: right;\n",
       "    }\n",
       "</style>\n",
       "<table border=\"1\" class=\"dataframe\">\n",
       "  <thead>\n",
       "    <tr style=\"text-align: right;\">\n",
       "      <th></th>\n",
       "      <th>Country</th>\n",
       "      <th>ISO</th>\n",
       "      <th>Sex</th>\n",
       "      <th>Year of birth</th>\n",
       "      <th>Mean height (cm)</th>\n",
       "      <th>Mean height lower 95% uncertainty interval (cm)</th>\n",
       "      <th>Mean height upper 95% uncertainty interval (cm)</th>\n",
       "    </tr>\n",
       "  </thead>\n",
       "  <tbody>\n",
       "    <tr>\n",
       "      <th>0</th>\n",
       "      <td>Afghanistan</td>\n",
       "      <td>AFG</td>\n",
       "      <td>Men</td>\n",
       "      <td>1896</td>\n",
       "      <td>161.164095</td>\n",
       "      <td>154.484285</td>\n",
       "      <td>167.754033</td>\n",
       "    </tr>\n",
       "    <tr>\n",
       "      <th>1</th>\n",
       "      <td>Afghanistan</td>\n",
       "      <td>AFG</td>\n",
       "      <td>Men</td>\n",
       "      <td>1897</td>\n",
       "      <td>161.196286</td>\n",
       "      <td>154.571603</td>\n",
       "      <td>167.659618</td>\n",
       "    </tr>\n",
       "    <tr>\n",
       "      <th>2</th>\n",
       "      <td>Afghanistan</td>\n",
       "      <td>AFG</td>\n",
       "      <td>Men</td>\n",
       "      <td>1898</td>\n",
       "      <td>161.228297</td>\n",
       "      <td>154.707340</td>\n",
       "      <td>167.602576</td>\n",
       "    </tr>\n",
       "    <tr>\n",
       "      <th>3</th>\n",
       "      <td>Afghanistan</td>\n",
       "      <td>AFG</td>\n",
       "      <td>Men</td>\n",
       "      <td>1899</td>\n",
       "      <td>161.260727</td>\n",
       "      <td>154.835644</td>\n",
       "      <td>167.528113</td>\n",
       "    </tr>\n",
       "    <tr>\n",
       "      <th>4</th>\n",
       "      <td>Afghanistan</td>\n",
       "      <td>AFG</td>\n",
       "      <td>Men</td>\n",
       "      <td>1900</td>\n",
       "      <td>161.293068</td>\n",
       "      <td>154.959540</td>\n",
       "      <td>167.508077</td>\n",
       "    </tr>\n",
       "  </tbody>\n",
       "</table>\n",
       "</div>"
      ],
      "text/plain": [
       "       Country  ISO  Sex  Year of birth  Mean height (cm)  \\\n",
       "0  Afghanistan  AFG  Men           1896        161.164095   \n",
       "1  Afghanistan  AFG  Men           1897        161.196286   \n",
       "2  Afghanistan  AFG  Men           1898        161.228297   \n",
       "3  Afghanistan  AFG  Men           1899        161.260727   \n",
       "4  Afghanistan  AFG  Men           1900        161.293068   \n",
       "\n",
       "   Mean height lower 95% uncertainty interval (cm)  \\\n",
       "0                                       154.484285   \n",
       "1                                       154.571603   \n",
       "2                                       154.707340   \n",
       "3                                       154.835644   \n",
       "4                                       154.959540   \n",
       "\n",
       "   Mean height upper 95% uncertainty interval (cm)  \n",
       "0                                       167.754033  \n",
       "1                                       167.659618  \n",
       "2                                       167.602576  \n",
       "3                                       167.528113  \n",
       "4                                       167.508077  "
      ]
     },
     "execution_count": 11,
     "metadata": {},
     "output_type": "execute_result"
    }
   ],
   "source": [
    "height_pd.head()"
   ]
  },
  {
   "cell_type": "code",
   "execution_count": 13,
   "metadata": {},
   "outputs": [],
   "source": [
    "us_height_pd = pd.read_csv(\"/Users/scottcambo/Downloads/United States of America.csv\")"
   ]
  },
  {
   "cell_type": "code",
   "execution_count": 21,
   "metadata": {},
   "outputs": [
    {
     "data": {
      "text/html": [
       "<div>\n",
       "<style scoped>\n",
       "    .dataframe tbody tr th:only-of-type {\n",
       "        vertical-align: middle;\n",
       "    }\n",
       "\n",
       "    .dataframe tbody tr th {\n",
       "        vertical-align: top;\n",
       "    }\n",
       "\n",
       "    .dataframe thead th {\n",
       "        text-align: right;\n",
       "    }\n",
       "</style>\n",
       "<table border=\"1\" class=\"dataframe\">\n",
       "  <thead>\n",
       "    <tr style=\"text-align: right;\">\n",
       "      <th></th>\n",
       "      <th>Country</th>\n",
       "      <th>ISO</th>\n",
       "      <th>Sex</th>\n",
       "      <th>Year of birth</th>\n",
       "      <th>Mean height (cm)</th>\n",
       "      <th>Mean height lower 95% uncertainty interval (cm)</th>\n",
       "      <th>Mean height upper 95% uncertainty interval (cm)</th>\n",
       "    </tr>\n",
       "  </thead>\n",
       "  <tbody>\n",
       "    <tr>\n",
       "      <th>0</th>\n",
       "      <td>United States of America</td>\n",
       "      <td>USA</td>\n",
       "      <td>Men</td>\n",
       "      <td>1896</td>\n",
       "      <td>171.079272</td>\n",
       "      <td>169.888133</td>\n",
       "      <td>172.260045</td>\n",
       "    </tr>\n",
       "    <tr>\n",
       "      <th>101</th>\n",
       "      <td>United States of America</td>\n",
       "      <td>USA</td>\n",
       "      <td>Women</td>\n",
       "      <td>1896</td>\n",
       "      <td>158.514920</td>\n",
       "      <td>157.401649</td>\n",
       "      <td>159.643752</td>\n",
       "    </tr>\n",
       "    <tr>\n",
       "      <th>1</th>\n",
       "      <td>United States of America</td>\n",
       "      <td>USA</td>\n",
       "      <td>Men</td>\n",
       "      <td>1897</td>\n",
       "      <td>171.179657</td>\n",
       "      <td>170.067661</td>\n",
       "      <td>172.293362</td>\n",
       "    </tr>\n",
       "    <tr>\n",
       "      <th>102</th>\n",
       "      <td>United States of America</td>\n",
       "      <td>USA</td>\n",
       "      <td>Women</td>\n",
       "      <td>1897</td>\n",
       "      <td>158.570227</td>\n",
       "      <td>157.516431</td>\n",
       "      <td>159.651278</td>\n",
       "    </tr>\n",
       "    <tr>\n",
       "      <th>2</th>\n",
       "      <td>United States of America</td>\n",
       "      <td>USA</td>\n",
       "      <td>Men</td>\n",
       "      <td>1898</td>\n",
       "      <td>171.280292</td>\n",
       "      <td>170.227214</td>\n",
       "      <td>172.325284</td>\n",
       "    </tr>\n",
       "  </tbody>\n",
       "</table>\n",
       "</div>"
      ],
      "text/plain": [
       "                      Country  ISO    Sex  Year of birth  Mean height (cm)  \\\n",
       "0    United States of America  USA    Men           1896        171.079272   \n",
       "101  United States of America  USA  Women           1896        158.514920   \n",
       "1    United States of America  USA    Men           1897        171.179657   \n",
       "102  United States of America  USA  Women           1897        158.570227   \n",
       "2    United States of America  USA    Men           1898        171.280292   \n",
       "\n",
       "     Mean height lower 95% uncertainty interval (cm)  \\\n",
       "0                                         169.888133   \n",
       "101                                       157.401649   \n",
       "1                                         170.067661   \n",
       "102                                       157.516431   \n",
       "2                                         170.227214   \n",
       "\n",
       "     Mean height upper 95% uncertainty interval (cm)  \n",
       "0                                         172.260045  \n",
       "101                                       159.643752  \n",
       "1                                         172.293362  \n",
       "102                                       159.651278  \n",
       "2                                         172.325284  "
      ]
     },
     "execution_count": 21,
     "metadata": {},
     "output_type": "execute_result"
    }
   ],
   "source": [
    "us_height_pd.sort_values(by=\"Year of birth\").head()"
   ]
  },
  {
   "cell_type": "code",
   "execution_count": 53,
   "metadata": {},
   "outputs": [
    {
     "data": {
      "image/png": "[encoded data removed]",
      "text/plain": [
       "<matplotlib.figure.Figure at 0x122285b00>"
      ]
     },
     "metadata": {},
     "output_type": "display_data"
    }
   ],
   "source": [
    "us_height_pd.sort_values(by=\"Year of birth\").groupby(['Year of birth']).agg({'Mean height (cm)':'mean'}).plot()\n",
    "plt.show()"
   ]
  },
  {
   "cell_type": "code",
   "execution_count": 28,
   "metadata": {},
   "outputs": [
    {
     "name": "stderr",
     "output_type": "stream",
     "text": [
      "/Users/scottcambo/.virtualenvs/machinelearning/lib/python3.6/site-packages/ipykernel_launcher.py:1: UserWarning: Boolean Series key will be reindexed to match DataFrame index.\n",
      "  \"\"\"Entry point for launching an IPython kernel.\n"
     ]
    },
    {
     "data": {
      "image/png": "[encoded data removed]",
      "text/plain": [
       "<matplotlib.figure.Figure at 0x1108fd160>"
      ]
     },
     "metadata": {},
     "output_type": "display_data"
    }
   ],
   "source": [
    "us_height_pd.sort_values(by=\"Year of birth\")[us_height_pd['Sex'] == 'Women']['Mean height (cm)'].plot(use_index=False)\n",
    "plt.show()"
   ]
  },
  {
   "cell_type": "code",
   "execution_count": 29,
   "metadata": {},
   "outputs": [
    {
     "data": {
      "text/plain": [
       "1996"
      ]
     },
     "execution_count": 29,
     "metadata": {},
     "output_type": "execute_result"
    }
   ],
   "source": [
    "height_pd['Year of birth'].max()"
   ]
  },
  {
   "cell_type": "code",
   "execution_count": 37,
   "metadata": {},
   "outputs": [],
   "source": [
    "country_and_height = height_pd[height_pd['Year of birth'] == 1996].groupby(['Country']).agg({'Mean height (cm)':'mean'})"
   ]
  },
  {
   "cell_type": "code",
   "execution_count": 38,
   "metadata": {},
   "outputs": [
    {
     "data": {
      "text/plain": [
       "pandas.core.frame.DataFrame"
      ]
     },
     "execution_count": 38,
     "metadata": {},
     "output_type": "execute_result"
    }
   ],
   "source": [
    "type(country_and_height)"
   ]
  },
  {
   "cell_type": "code",
   "execution_count": 49,
   "metadata": {},
   "outputs": [
    {
     "data": {
      "text/plain": [
       "<matplotlib.axes._subplots.AxesSubplot at 0x121408d68>"
      ]
     },
     "execution_count": 49,
     "metadata": {},
     "output_type": "execute_result"
    }
   ],
   "source": [
    "country_and_height['Mean height (cm)'].plot.bar(figsize=(14,5))"
   ]
  },
  {
   "cell_type": "code",
   "execution_count": 50,
   "metadata": {},
   "outputs": [
    {
     "data": {
      "image/png": "[encoded data removed]",
      "text/plain": [
       "<matplotlib.figure.Figure at 0x1213bdf28>"
      ]
     },
     "metadata": {},
     "output_type": "display_data"
    }
   ],
   "source": [
    "plt.show()"
   ]
  },
  {
   "cell_type": "code",
   "execution_count": 51,
   "metadata": {},
   "outputs": [
    {
     "data": {
      "text/html": [
       "<div>\n",
       "<style scoped>\n",
       "    .dataframe tbody tr th:only-of-type {\n",
       "        vertical-align: middle;\n",
       "    }\n",
       "\n",
       "    .dataframe tbody tr th {\n",
       "        vertical-align: top;\n",
       "    }\n",
       "\n",
       "    .dataframe thead th {\n",
       "        text-align: right;\n",
       "    }\n",
       "</style>\n",
       "<table border=\"1\" class=\"dataframe\">\n",
       "  <thead>\n",
       "    <tr style=\"text-align: right;\">\n",
       "      <th></th>\n",
       "      <th>Country</th>\n",
       "      <th>ISO</th>\n",
       "      <th>Sex</th>\n",
       "      <th>Year of birth</th>\n",
       "      <th>Mean height (cm)</th>\n",
       "      <th>Mean height lower 95% uncertainty interval (cm)</th>\n",
       "      <th>Mean height upper 95% uncertainty interval (cm)</th>\n",
       "    </tr>\n",
       "  </thead>\n",
       "  <tbody>\n",
       "    <tr>\n",
       "      <th>0</th>\n",
       "      <td>United States of America</td>\n",
       "      <td>USA</td>\n",
       "      <td>Men</td>\n",
       "      <td>1896</td>\n",
       "      <td>171.079272</td>\n",
       "      <td>169.888133</td>\n",
       "      <td>172.260045</td>\n",
       "    </tr>\n",
       "    <tr>\n",
       "      <th>1</th>\n",
       "      <td>United States of America</td>\n",
       "      <td>USA</td>\n",
       "      <td>Men</td>\n",
       "      <td>1897</td>\n",
       "      <td>171.179657</td>\n",
       "      <td>170.067661</td>\n",
       "      <td>172.293362</td>\n",
       "    </tr>\n",
       "    <tr>\n",
       "      <th>2</th>\n",
       "      <td>United States of America</td>\n",
       "      <td>USA</td>\n",
       "      <td>Men</td>\n",
       "      <td>1898</td>\n",
       "      <td>171.280292</td>\n",
       "      <td>170.227214</td>\n",
       "      <td>172.325284</td>\n",
       "    </tr>\n",
       "    <tr>\n",
       "      <th>3</th>\n",
       "      <td>United States of America</td>\n",
       "      <td>USA</td>\n",
       "      <td>Men</td>\n",
       "      <td>1899</td>\n",
       "      <td>171.381148</td>\n",
       "      <td>170.392335</td>\n",
       "      <td>172.372466</td>\n",
       "    </tr>\n",
       "    <tr>\n",
       "      <th>4</th>\n",
       "      <td>United States of America</td>\n",
       "      <td>USA</td>\n",
       "      <td>Men</td>\n",
       "      <td>1900</td>\n",
       "      <td>171.482114</td>\n",
       "      <td>170.536632</td>\n",
       "      <td>172.430823</td>\n",
       "    </tr>\n",
       "  </tbody>\n",
       "</table>\n",
       "</div>"
      ],
      "text/plain": [
       "                    Country  ISO  Sex  Year of birth  Mean height (cm)  \\\n",
       "0  United States of America  USA  Men           1896        171.079272   \n",
       "1  United States of America  USA  Men           1897        171.179657   \n",
       "2  United States of America  USA  Men           1898        171.280292   \n",
       "3  United States of America  USA  Men           1899        171.381148   \n",
       "4  United States of America  USA  Men           1900        171.482114   \n",
       "\n",
       "   Mean height lower 95% uncertainty interval (cm)  \\\n",
       "0                                       169.888133   \n",
       "1                                       170.067661   \n",
       "2                                       170.227214   \n",
       "3                                       170.392335   \n",
       "4                                       170.536632   \n",
       "\n",
       "   Mean height upper 95% uncertainty interval (cm)  \n",
       "0                                       172.260045  \n",
       "1                                       172.293362  \n",
       "2                                       172.325284  \n",
       "3                                       172.372466  \n",
       "4                                       172.430823  "
      ]
     },
     "execution_count": 51,
     "metadata": {},
     "output_type": "execute_result"
    }
   ],
   "source": [
    "us_height_pd.head()"
   ]
  },
  {
   "cell_type": "code",
   "execution_count": 99,
   "metadata": {
    "collapsed": true
   },
   "outputs": [],
   "source": [
    "height_df2 = pd.read_csv(\"/Users/scottcambo/Downloads/NHIS 2007 data.csv\")"
   ]
  },
  {
   "cell_type": "code",
   "execution_count": 105,
   "metadata": {},
   "outputs": [],
   "source": [
    "height_df2 = height_df2[height_df2['height'] < 75]"
   ]
  },
  {
   "cell_type": "code",
   "execution_count": 106,
   "metadata": {},
   "outputs": [
    {
     "data": {
      "text/html": [
       "<div>\n",
       "<style scoped>\n",
       "    .dataframe tbody tr th:only-of-type {\n",
       "        vertical-align: middle;\n",
       "    }\n",
       "\n",
       "    .dataframe tbody tr th {\n",
       "        vertical-align: top;\n",
       "    }\n",
       "\n",
       "    .dataframe thead th {\n",
       "        text-align: right;\n",
       "    }\n",
       "</style>\n",
       "<table border=\"1\" class=\"dataframe\">\n",
       "  <thead>\n",
       "    <tr style=\"text-align: right;\">\n",
       "      <th></th>\n",
       "      <th>HHX</th>\n",
       "      <th>FMX</th>\n",
       "      <th>FPX</th>\n",
       "      <th>SEX</th>\n",
       "      <th>BMI</th>\n",
       "      <th>SLEEP</th>\n",
       "      <th>educ</th>\n",
       "      <th>height</th>\n",
       "      <th>weight</th>\n",
       "      <th>i</th>\n",
       "    </tr>\n",
       "  </thead>\n",
       "  <tbody>\n",
       "    <tr>\n",
       "      <th>0</th>\n",
       "      <td>16</td>\n",
       "      <td>1</td>\n",
       "      <td>2</td>\n",
       "      <td>1</td>\n",
       "      <td>33.36</td>\n",
       "      <td>8</td>\n",
       "      <td>16</td>\n",
       "      <td>74</td>\n",
       "      <td>260</td>\n",
       "      <td>0</td>\n",
       "    </tr>\n",
       "    <tr>\n",
       "      <th>1</th>\n",
       "      <td>20</td>\n",
       "      <td>1</td>\n",
       "      <td>1</td>\n",
       "      <td>1</td>\n",
       "      <td>26.54</td>\n",
       "      <td>7</td>\n",
       "      <td>14</td>\n",
       "      <td>70</td>\n",
       "      <td>185</td>\n",
       "      <td>1</td>\n",
       "    </tr>\n",
       "    <tr>\n",
       "      <th>2</th>\n",
       "      <td>69</td>\n",
       "      <td>1</td>\n",
       "      <td>2</td>\n",
       "      <td>2</td>\n",
       "      <td>32.13</td>\n",
       "      <td>7</td>\n",
       "      <td>9</td>\n",
       "      <td>61</td>\n",
       "      <td>170</td>\n",
       "      <td>2</td>\n",
       "    </tr>\n",
       "    <tr>\n",
       "      <th>3</th>\n",
       "      <td>87</td>\n",
       "      <td>1</td>\n",
       "      <td>1</td>\n",
       "      <td>1</td>\n",
       "      <td>26.62</td>\n",
       "      <td>8</td>\n",
       "      <td>14</td>\n",
       "      <td>68</td>\n",
       "      <td>175</td>\n",
       "      <td>3</td>\n",
       "    </tr>\n",
       "    <tr>\n",
       "      <th>4</th>\n",
       "      <td>88</td>\n",
       "      <td>1</td>\n",
       "      <td>1</td>\n",
       "      <td>2</td>\n",
       "      <td>27.13</td>\n",
       "      <td>8</td>\n",
       "      <td>13</td>\n",
       "      <td>66</td>\n",
       "      <td>168</td>\n",
       "      <td>4</td>\n",
       "    </tr>\n",
       "  </tbody>\n",
       "</table>\n",
       "</div>"
      ],
      "text/plain": [
       "   HHX  FMX  FPX  SEX    BMI  SLEEP  educ  height  weight  i\n",
       "0   16    1    2    1  33.36      8    16      74     260  0\n",
       "1   20    1    1    1  26.54      7    14      70     185  1\n",
       "2   69    1    2    2  32.13      7     9      61     170  2\n",
       "3   87    1    1    1  26.62      8    14      68     175  3\n",
       "4   88    1    1    2  27.13      8    13      66     168  4"
      ]
     },
     "execution_count": 106,
     "metadata": {},
     "output_type": "execute_result"
    }
   ],
   "source": [
    "height_df2.head()"
   ]
  },
  {
   "cell_type": "code",
   "execution_count": 111,
   "metadata": {},
   "outputs": [
    {
     "data": {
      "text/html": [
       "<div>\n",
       "<style scoped>\n",
       "    .dataframe tbody tr th:only-of-type {\n",
       "        vertical-align: middle;\n",
       "    }\n",
       "\n",
       "    .dataframe tbody tr th {\n",
       "        vertical-align: top;\n",
       "    }\n",
       "\n",
       "    .dataframe thead th {\n",
       "        text-align: right;\n",
       "    }\n",
       "</style>\n",
       "<table border=\"1\" class=\"dataframe\">\n",
       "  <thead>\n",
       "    <tr style=\"text-align: right;\">\n",
       "      <th></th>\n",
       "      <th>HHX</th>\n",
       "      <th>FMX</th>\n",
       "      <th>FPX</th>\n",
       "      <th>SEX</th>\n",
       "      <th>BMI</th>\n",
       "      <th>SLEEP</th>\n",
       "      <th>educ</th>\n",
       "      <th>height</th>\n",
       "      <th>weight</th>\n",
       "      <th>i</th>\n",
       "    </tr>\n",
       "  </thead>\n",
       "  <tbody>\n",
       "    <tr>\n",
       "      <th>count</th>\n",
       "      <td>4227.000000</td>\n",
       "      <td>4227.000000</td>\n",
       "      <td>4227.000000</td>\n",
       "      <td>4227.000000</td>\n",
       "      <td>4227.000000</td>\n",
       "      <td>4227.000000</td>\n",
       "      <td>4227.000000</td>\n",
       "      <td>4227.000000</td>\n",
       "      <td>4227.000000</td>\n",
       "      <td>4227.000000</td>\n",
       "    </tr>\n",
       "    <tr>\n",
       "      <th>mean</th>\n",
       "      <td>26920.146203</td>\n",
       "      <td>1.016797</td>\n",
       "      <td>1.357937</td>\n",
       "      <td>1.563047</td>\n",
       "      <td>29.244209</td>\n",
       "      <td>7.551455</td>\n",
       "      <td>13.986042</td>\n",
       "      <td>66.609889</td>\n",
       "      <td>195.134611</td>\n",
       "      <td>2113.000000</td>\n",
       "    </tr>\n",
       "    <tr>\n",
       "      <th>std</th>\n",
       "      <td>15628.958932</td>\n",
       "      <td>0.159720</td>\n",
       "      <td>0.592076</td>\n",
       "      <td>0.496068</td>\n",
       "      <td>12.943365</td>\n",
       "      <td>6.703997</td>\n",
       "      <td>7.379673</td>\n",
       "      <td>3.686345</td>\n",
       "      <td>139.390062</td>\n",
       "      <td>1220.374123</td>\n",
       "    </tr>\n",
       "    <tr>\n",
       "      <th>min</th>\n",
       "      <td>16.000000</td>\n",
       "      <td>1.000000</td>\n",
       "      <td>1.000000</td>\n",
       "      <td>1.000000</td>\n",
       "      <td>16.920000</td>\n",
       "      <td>3.000000</td>\n",
       "      <td>0.000000</td>\n",
       "      <td>59.000000</td>\n",
       "      <td>100.000000</td>\n",
       "      <td>0.000000</td>\n",
       "    </tr>\n",
       "    <tr>\n",
       "      <th>25%</th>\n",
       "      <td>13248.500000</td>\n",
       "      <td>1.000000</td>\n",
       "      <td>1.000000</td>\n",
       "      <td>1.000000</td>\n",
       "      <td>23.525000</td>\n",
       "      <td>6.000000</td>\n",
       "      <td>12.000000</td>\n",
       "      <td>64.000000</td>\n",
       "      <td>145.000000</td>\n",
       "      <td>1056.500000</td>\n",
       "    </tr>\n",
       "    <tr>\n",
       "      <th>50%</th>\n",
       "      <td>27340.000000</td>\n",
       "      <td>1.000000</td>\n",
       "      <td>1.000000</td>\n",
       "      <td>2.000000</td>\n",
       "      <td>26.590000</td>\n",
       "      <td>7.000000</td>\n",
       "      <td>13.000000</td>\n",
       "      <td>66.000000</td>\n",
       "      <td>170.000000</td>\n",
       "      <td>2113.000000</td>\n",
       "    </tr>\n",
       "    <tr>\n",
       "      <th>75%</th>\n",
       "      <td>40206.000000</td>\n",
       "      <td>1.000000</td>\n",
       "      <td>2.000000</td>\n",
       "      <td>2.000000</td>\n",
       "      <td>30.690000</td>\n",
       "      <td>8.000000</td>\n",
       "      <td>16.000000</td>\n",
       "      <td>69.000000</td>\n",
       "      <td>200.000000</td>\n",
       "      <td>3169.500000</td>\n",
       "    </tr>\n",
       "    <tr>\n",
       "      <th>max</th>\n",
       "      <td>53955.000000</td>\n",
       "      <td>5.000000</td>\n",
       "      <td>7.000000</td>\n",
       "      <td>2.000000</td>\n",
       "      <td>99.990000</td>\n",
       "      <td>99.000000</td>\n",
       "      <td>99.000000</td>\n",
       "      <td>74.000000</td>\n",
       "      <td>999.000000</td>\n",
       "      <td>4226.000000</td>\n",
       "    </tr>\n",
       "  </tbody>\n",
       "</table>\n",
       "</div>"
      ],
      "text/plain": [
       "                HHX          FMX          FPX          SEX          BMI  \\\n",
       "count   4227.000000  4227.000000  4227.000000  4227.000000  4227.000000   \n",
       "mean   26920.146203     1.016797     1.357937     1.563047    29.244209   \n",
       "std    15628.958932     0.159720     0.592076     0.496068    12.943365   \n",
       "min       16.000000     1.000000     1.000000     1.000000    16.920000   \n",
       "25%    13248.500000     1.000000     1.000000     1.000000    23.525000   \n",
       "50%    27340.000000     1.000000     1.000000     2.000000    26.590000   \n",
       "75%    40206.000000     1.000000     2.000000     2.000000    30.690000   \n",
       "max    53955.000000     5.000000     7.000000     2.000000    99.990000   \n",
       "\n",
       "             SLEEP         educ       height       weight            i  \n",
       "count  4227.000000  4227.000000  4227.000000  4227.000000  4227.000000  \n",
       "mean      7.551455    13.986042    66.609889   195.134611  2113.000000  \n",
       "std       6.703997     7.379673     3.686345   139.390062  1220.374123  \n",
       "min       3.000000     0.000000    59.000000   100.000000     0.000000  \n",
       "25%       6.000000    12.000000    64.000000   145.000000  1056.500000  \n",
       "50%       7.000000    13.000000    66.000000   170.000000  2113.000000  \n",
       "75%       8.000000    16.000000    69.000000   200.000000  3169.500000  \n",
       "max      99.000000    99.000000    74.000000   999.000000  4226.000000  "
      ]
     },
     "execution_count": 111,
     "metadata": {},
     "output_type": "execute_result"
    }
   ],
   "source": [
    "height_df2.describe()"
   ]
  },
  {
   "cell_type": "code",
   "execution_count": 107,
   "metadata": {},
   "outputs": [],
   "source": [
    "height_df2['i'] = list(range(0, len(height_df2)))"
   ]
  },
  {
   "cell_type": "code",
   "execution_count": 110,
   "metadata": {},
   "outputs": [
    {
     "data": {
      "image/png": "[encoded data removed]",
      "text/plain": [
       "<matplotlib.figure.Figure at 0x124673710>"
      ]
     },
     "metadata": {},
     "output_type": "display_data"
    }
   ],
   "source": [
    "height_df2.plot(y='height', kind='bar')\n",
    "plt.show()"
   ]
  },
  {
   "cell_type": "code",
   "execution_count": 108,
   "metadata": {},
   "outputs": [
    {
     "data": {
      "image/png": "[encoded data removed]",
      "text/plain": [
       "<matplotlib.figure.Figure at 0x1239e5cf8>"
      ]
     },
     "metadata": {},
     "output_type": "display_data"
    }
   ],
   "source": [
    "height_df2.plot(y='height', kind='hist')\n",
    "plt.show()"
   ]
  },
  {
   "cell_type": "code",
   "execution_count": 109,
   "metadata": {},
   "outputs": [
    {
     "data": {
      "text/plain": [
       "count    4227.000000\n",
       "mean       66.609889\n",
       "std         3.686345\n",
       "min        59.000000\n",
       "25%        64.000000\n",
       "50%        66.000000\n",
       "75%        69.000000\n",
       "max        74.000000\n",
       "Name: height, dtype: float64"
      ]
     },
     "execution_count": 109,
     "metadata": {},
     "output_type": "execute_result"
    }
   ],
   "source": [
    "height_df2.describe()['height']"
   ]
  },
  {
   "cell_type": "code",
   "execution_count": null,
   "metadata": {
    "collapsed": true
   },
   "outputs": [],
   "source": []
  },
  {
   "cell_type": "code",
   "execution_count": null,
   "metadata": {
    "collapsed": true
   },
   "outputs": [],
   "source": []
  }
 ],
 "metadata": {
  "kernelspec": {
   "display_name": "machinelearning",
   "language": "python",
   "name": "machinelearning"
  },
  "language_info": {
   "codemirror_mode": {
    "name": "ipython",
    "version": 3
   },
   "file_extension": ".py",
   "mimetype": "text/x-python",
   "name": "python",
   "nbconvert_exporter": "python",
   "pygments_lexer": "ipython3",
   "version": "3.6.1"
  }
 },
 "nbformat": 4,
 "nbformat_minor": 2
}
